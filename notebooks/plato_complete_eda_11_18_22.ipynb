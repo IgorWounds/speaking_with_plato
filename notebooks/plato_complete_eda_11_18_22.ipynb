{
 "cells": [
  {
   "cell_type": "markdown",
   "metadata": {},
   "source": [
    "## Speaking with Plato: Complete EDA\n",
    "\n",
    "### 11/18/22\n",
    "\n",
    "### Import libraries, functions, and data\n"
   ]
  },
  {
   "cell_type": "code",
   "execution_count": 15,
   "metadata": {},
   "outputs": [
    {
     "name": "stdout",
     "output_type": "stream",
     "text": [
      "The watermark extension is already loaded. To reload it, use:\n",
      "  %reload_ext watermark\n",
      "Author: Igor_Radovanovic\n",
      "\n",
      "Github username: IgorWounds\n",
      "\n",
      "Website: igorradovanovic.com\n",
      "\n",
      "Compiler    : MSC v.1916 64 bit (AMD64)\n",
      "OS          : Windows\n",
      "Release     : 10\n",
      "Machine     : AMD64\n",
      "Processor   : AMD64 Family 23 Model 113 Stepping 0, AuthenticAMD\n",
      "CPU cores   : 16\n",
      "Architecture: 64bit\n",
      "\n",
      "matplotlib  : None\n",
      "nltk        : 3.6.5\n",
      "seaborn     : 0.11.2\n",
      "tensorflow  : 2.6.0\n",
      "sys         : 3.8.13 (default, Mar 28 2022, 06:59:08) [MSC v.1916 64 bit (AMD64)]\n",
      "pandas      : 1.4.3\n",
      "text2emotion: 0.0.5\n",
      "numpy       : 1.19.5\n",
      "gensim      : 4.2.0\n",
      "tensorboard : 2.6.0\n",
      "pyLDAvis    : 3.3.1\n",
      "\n"
     ]
    }
   ],
   "source": [
    "%load_ext watermark\n",
    "%watermark -a 'Igor_Radovanovic' -gu 'IgorWounds' -ws 'igorradovanovic.com' -m --iversions"
   ]
  },
  {
   "cell_type": "code",
   "execution_count": null,
   "metadata": {},
   "outputs": [],
   "source": [
    "import pandas as pd\n",
    "import numpy as np\n",
    "\n",
    "import matplotlib.pyplot as plt\n",
    "import seaborn as sns\n",
    "\n",
    "import nltk\n",
    "\n",
    "try:\n",
    "    nltk.data.find(\"corpora/stopwords\")\n",
    "except LookupError:\n",
    "    nltk.download(\"stopwords\")\n",
    "from nltk.corpus import stopwords\n",
    "from nltk.stem import WordNetLemmatizer\n",
    "from nltk.sentiment.vader import SentimentIntensityAnalyzer as SIA\n",
    "\n",
    "try:\n",
    "    nltk.data.find(\"vader_lexicon\")\n",
    "except LookupError:\n",
    "    nltk.download(\"vader_lexicon\")\n",
    "try:\n",
    "    nltk.data.find(\"brown\")\n",
    "except LookupError:\n",
    "    nltk.download(\"brown\")\n",
    "\n",
    "import pyLDAvis\n",
    "import pyLDAvis.gensim_models as gensimvis\n",
    "import gensim.corpora as corpora\n",
    "from gensim.models.ldamodel import LdaModel\n",
    "\n",
    "import tensorflow as tf\n",
    "from tensorboard.plugins import projector\n",
    "from gensim.models import Word2Vec\n",
    "from sklearn.manifold import TSNE\n",
    "\n",
    "import text2emotion as te\n",
    "from textblob import TextBlob\n",
    "\n",
    "import sys\n",
    "import os\n",
    "import re\n",
    "\n",
    "module_path = os.path.abspath(os.path.join(\"..\"))\n",
    "if module_path not in sys.path:\n",
    "    sys.path.append(module_path + \"/src/visualization\")\n",
    "\n",
    "from visualize import polarity_and_subjectivity, wordcloud, get_top_bigrams\n",
    "\n",
    "import warnings\n",
    "\n",
    "warnings.filterwarnings(\"ignore\")"
   ]
  },
  {
   "cell_type": "code",
   "execution_count": 2,
   "metadata": {},
   "outputs": [
    {
     "data": {
      "text/html": [
       "<div>\n",
       "<style scoped>\n",
       "    .dataframe tbody tr th:only-of-type {\n",
       "        vertical-align: middle;\n",
       "    }\n",
       "\n",
       "    .dataframe tbody tr th {\n",
       "        vertical-align: top;\n",
       "    }\n",
       "\n",
       "    .dataframe thead th {\n",
       "        text-align: right;\n",
       "    }\n",
       "</style>\n",
       "<table border=\"1\" class=\"dataframe\">\n",
       "  <thead>\n",
       "    <tr style=\"text-align: right;\">\n",
       "      <th></th>\n",
       "      <th>text</th>\n",
       "    </tr>\n",
       "  </thead>\n",
       "  <tbody>\n",
       "    <tr>\n",
       "      <th>alcibiades_i</th>\n",
       "      <td>socrates: i dare say that you may be surprised...</td>\n",
       "    </tr>\n",
       "    <tr>\n",
       "      <th>alcibiades_ii</th>\n",
       "      <td>persons of the dialogue: socrates and alcibiad...</td>\n",
       "    </tr>\n",
       "    <tr>\n",
       "      <th>apology</th>\n",
       "      <td>apology how you, o athenians, have been affect...</td>\n",
       "    </tr>\n",
       "    <tr>\n",
       "      <th>charmides</th>\n",
       "      <td>persons of the dialogue: socrates, who is the ...</td>\n",
       "    </tr>\n",
       "    <tr>\n",
       "      <th>cratylus</th>\n",
       "      <td>persons of the dialogue: socrates, hermogenes,...</td>\n",
       "    </tr>\n",
       "  </tbody>\n",
       "</table>\n",
       "</div>"
      ],
      "text/plain": [
       "                                                            text\n",
       "alcibiades_i   socrates: i dare say that you may be surprised...\n",
       "alcibiades_ii  persons of the dialogue: socrates and alcibiad...\n",
       "apology        apology how you, o athenians, have been affect...\n",
       "charmides      persons of the dialogue: socrates, who is the ...\n",
       "cratylus       persons of the dialogue: socrates, hermogenes,..."
      ]
     },
     "execution_count": 2,
     "metadata": {},
     "output_type": "execute_result"
    }
   ],
   "source": [
    "# load the data\n",
    "df = pd.read_csv(\"../data/processed/plato_texts.csv\").T\n",
    "df.columns = [\"text\"]\n",
    "df.head()"
   ]
  },
  {
   "cell_type": "markdown",
   "metadata": {},
   "source": [
    "### Sentiment Analysis using VADER\n"
   ]
  },
  {
   "cell_type": "code",
   "execution_count": null,
   "metadata": {},
   "outputs": [],
   "source": [
    "sia = SIA()\n",
    "results = []\n",
    "\n",
    "for text in df[\"text\"]:\n",
    "    pol_score = sia.polarity_scores(text)\n",
    "    pol_score[\"text\"] = text\n",
    "    # append only the negative, neutral, compund, and positive scores\n",
    "    results.append(\n",
    "        {k: v for k, v in pol_score.items() if k in [\"neg\", \"neu\", \"compound\", \"pos\"]}\n",
    "    )\n",
    "\n",
    "df[\"compund\"] = [result[\"compound\"] for result in results]\n",
    "df[\"negative\"] = [result[\"neg\"] for result in results]\n",
    "df[\"neutral\"] = [result[\"neu\"] for result in results]\n",
    "df[\"positive\"] = [result[\"pos\"] for result in results]\n",
    "df.head()"
   ]
  },
  {
   "cell_type": "code",
   "execution_count": 5,
   "metadata": {},
   "outputs": [
    {
     "data": {
      "image/png": "[encoded data removed]",
      "text/plain": [
       "<Figure size 720x432 with 1 Axes>"
      ]
     },
     "metadata": {
      "needs_background": "light"
     },
     "output_type": "display_data"
    },
    {
     "data": {
      "image/png": "[encoded data removed]",
      "text/plain": [
       "<Figure size 720x432 with 1 Axes>"
      ]
     },
     "metadata": {
      "needs_background": "light"
     },
     "output_type": "display_data"
    },
    {
     "data": {
      "image/png": "[encoded data removed]",
      "text/plain": [
       "<Figure size 720x432 with 1 Axes>"
      ]
     },
     "metadata": {
      "needs_background": "light"
     },
     "output_type": "display_data"
    }
   ],
   "source": [
    "for col in [\"negative\", \"neutral\", \"positive\"]:\n",
    "    plt.figure(figsize=(10, 6))\n",
    "    sns.histplot(df[col], kde=True)\n",
    "    plt.title(f\"Plato's {col} sentiment scores\")\n",
    "    plt.savefig(f\"../reports/figures/{col}_sentiment_scores.png\")\n",
    "    plt.show()"
   ]
  },
  {
   "cell_type": "code",
   "execution_count": null,
   "metadata": {},
   "outputs": [],
   "source": [
    "cols = [\"negative\", \"neutral\", \"positive\"]\n",
    "\n",
    "for col in cols:\n",
    "    plt.figure(figsize=(10, 6))\n",
    "    try:\n",
    "        sns.catplot(\n",
    "            x=col, y=df.index, data=df, order=df.sort_values(col).index\n",
    "        )\n",
    "        plt.title(f\"Plato's {col.capitalize} Sentiment Scores\")\n",
    "    except ValueError:\n",
    "        pass\n",
    "    plt.tight_layout()\n",
    "    plt.savefig(f\"../reports/figures/compared_{col}_sentiment_scores.png\")"
   ]
  },
  {
   "cell_type": "markdown",
   "metadata": {},
   "source": [
    "### Polarity and subjectivity\n"
   ]
  },
  {
   "cell_type": "code",
   "execution_count": null,
   "metadata": {},
   "outputs": [],
   "source": [
    "# create a polarity and subjectivity graph for each text in df\n",
    "for i, text in enumerate(df[\"text\"]):\n",
    "    polarity_and_subjectivity(\n",
    "        text,\n",
    "        f\"Plato's {df.index[i].capitalize().replace('_ii', ' II').replace('_i', ' I')}\",\n",
    "        f\"../reports/figures/pol_and_sub/{df.index[i]}_polarity_and_subjectivity.png\",\n",
    "    )"
   ]
  },
  {
   "cell_type": "code",
   "execution_count": 8,
   "metadata": {},
   "outputs": [],
   "source": [
    "# calculate polarity and subjectivity\n",
    "polarity = []\n",
    "subjectivity = []\n",
    "\n",
    "for text in df[\"text\"]:\n",
    "    blob = TextBlob(text)\n",
    "    polarity.append(blob.polarity)\n",
    "    subjectivity.append(blob.subjectivity)\n",
    "\n",
    "df[\"polarity\"] = polarity\n",
    "df[\"subjectivity\"] = subjectivity\n",
    "\n",
    "# plot the polarity and subjectivity scores for each text in df\n",
    "for col in [\"polarity\", \"subjectivity\"]:\n",
    "    plt.figure(figsize=(10, 6))\n",
    "    sns.histplot(df[col], kde=True)\n",
    "    plt.title(f\"Plato's {col} scores\")\n",
    "    plt.savefig(f\"../reports/figures/{col}_scores.png\")\n",
    "    plt.show()"
   ]
  },
  {
   "cell_type": "code",
   "execution_count": 15,
   "metadata": {},
   "outputs": [
    {
     "data": {
      "text/plain": [
       "<Figure size 720x720 with 0 Axes>"
      ]
     },
     "metadata": {},
     "output_type": "display_data"
    },
    {
     "data": {
      "image/png": "[encoded data removed]",
      "text/plain": [
       "<Figure size 360x360 with 1 Axes>"
      ]
     },
     "metadata": {
      "needs_background": "light"
     },
     "output_type": "display_data"
    }
   ],
   "source": [
    "# plot catplot of polarity and subjectivity scores for each text in df\n",
    "plt.figure(figsize=(10, 10))\n",
    "try:\n",
    "    sns.catplot(\n",
    "        x=\"polarity\", y=df.index, data=df, order=df.sort_values(\"polarity\").index\n",
    "    )\n",
    "    plt.title(\"Plato's Polarity Scores\")\n",
    "except ValueError:\n",
    "    pass\n",
    "plt.tight_layout()\n",
    "plt.savefig(f\"../reports/figures/compared_polarity_scores.png\")"
   ]
  },
  {
   "cell_type": "code",
   "execution_count": 16,
   "metadata": {},
   "outputs": [
    {
     "data": {
      "text/plain": [
       "<Figure size 720x720 with 0 Axes>"
      ]
     },
     "metadata": {},
     "output_type": "display_data"
    },
    {
     "data": {
      "image/png": "[encoded data removed]",
      "text/plain": [
       "<Figure size 360x360 with 1 Axes>"
      ]
     },
     "metadata": {
      "needs_background": "light"
     },
     "output_type": "display_data"
    }
   ],
   "source": [
    "# plot catplot of polarity and subjectivity scores for each text in df\n",
    "plt.figure(figsize=(10, 10))\n",
    "try:\n",
    "    sns.catplot(\n",
    "        x=\"subjectivity\",\n",
    "        y=df.index,\n",
    "        data=df,\n",
    "        order=df.sort_values(\"subjectivity\").index,\n",
    "    )\n",
    "    plt.title(\"Plato's Subjectivity Scores\")\n",
    "except ValueError:\n",
    "    pass\n",
    "plt.tight_layout()\n",
    "plt.savefig(f\"../reports/figures/compared_subjectivity_scores.png\")"
   ]
  },
  {
   "cell_type": "markdown",
   "metadata": {},
   "source": [
    "### Top Sentences\n"
   ]
  },
  {
   "cell_type": "code",
   "execution_count": 33,
   "metadata": {},
   "outputs": [],
   "source": [
    "for i, text in enumerate(df[\"text\"]):\n",
    "    dir = \"../reports/files/\"\n",
    "    blob = TextBlob(text)\n",
    "    # remove whole sentence starting with \"persons\" in blob.sentences\n",
    "    blob.sentences = [\n",
    "        sentence\n",
    "        for sentence in blob.sentences\n",
    "        if not re.match(r\"persons\", str(sentence))\n",
    "    ]\n",
    "    if not os.path.exists(dir):\n",
    "        os.makedirs(dir)\n",
    "    with open(dir + \"polarization_and_subjectivity.txt\", \"a\") as f:\n",
    "        f.write(\n",
    "            f\"Plato's {df.index[i].capitalize().replace('_ii', ' II').replace('_i', ' I')}\"\n",
    "        )\n",
    "        f.write(\"\\n\")\n",
    "        f.write(\n",
    "            f\"Top sentence with the highest polarity score: {blob.sentences[np.argmax([sentence.polarity for sentence in blob.sentences])]}\"\n",
    "        )\n",
    "        f.write(\"\\n\")\n",
    "        f.write(\n",
    "            f\"Top sentence with the lowest polarity score: {blob.sentences[np.argmin([sentence.polarity for sentence in blob.sentences])]}\"\n",
    "        )\n",
    "        f.write(\"\\n\")\n",
    "        f.write(\n",
    "            f\"Top sentence with the highest subjectivity score: {blob.sentences[np.argmax([sentence.subjectivity for sentence in blob.sentences])]}\"\n",
    "        )\n",
    "        f.write(\"\\n\")\n",
    "        f.write(\n",
    "            f\"Top sentence with the lowest subjectivity score: {blob.sentences[np.argmin([sentence.subjectivity for sentence in blob.sentences])]}\"\n",
    "        )\n",
    "        f.write(\"\\n\")\n",
    "        f.write(\"\\n\")"
   ]
  },
  {
   "cell_type": "markdown",
   "metadata": {},
   "source": [
    "### Emotion Analysis\n"
   ]
  },
  {
   "cell_type": "code",
   "execution_count": null,
   "metadata": {},
   "outputs": [],
   "source": [
    "# calculate emotion scores\n",
    "anger = []\n",
    "fear = []\n",
    "happy = []\n",
    "sad = []\n",
    "surprise = []\n",
    "i = 0\n",
    "for text in df[\"text\"]:\n",
    "    print(i)\n",
    "    i += 1\n",
    "    emotions = te.get_emotion(text)\n",
    "    anger.append(emotions[\"Angry\"])\n",
    "    fear.append(emotions[\"Fear\"])\n",
    "    happy.append(emotions[\"Happy\"])\n",
    "    sad.append(emotions[\"Sad\"])\n",
    "    surprise.append(emotions[\"Surprise\"])\n",
    "\n",
    "df[\"anger\"] = anger\n",
    "df[\"fear\"] = fear\n",
    "df[\"happy\"] = happy\n",
    "df[\"sad\"] = sad\n",
    "df[\"surprise\"] = surprise\n",
    "\n",
    "df.head()"
   ]
  },
  {
   "cell_type": "code",
   "execution_count": 5,
   "metadata": {},
   "outputs": [
    {
     "data": {
      "image/png": "[encoded data removed]",
      "text/plain": [
       "<Figure size 720x432 with 1 Axes>"
      ]
     },
     "metadata": {
      "needs_background": "light"
     },
     "output_type": "display_data"
    }
   ],
   "source": [
    "plt.figure(figsize=(10, 6))\n",
    "sns.violinplot(data=df[[\"anger\", \"fear\", \"happy\", \"sad\", \"surprise\"]])\n",
    "plt.title(\"Plato's Overall Emotions Scores\")\n",
    "plt.savefig(f\"../reports/figures/emotion_scores.png\")"
   ]
  },
  {
   "cell_type": "code",
   "execution_count": null,
   "metadata": {},
   "outputs": [],
   "source": [
    "# plot anger scores for each text in df as a catplot\n",
    "cols = [\"anger\", \"fear\", \"happy\", \"sad\", \"surprise\"]\n",
    "for col in cols:\n",
    "    plt.figure(figsize=(10, 10))\n",
    "    try:\n",
    "        sns.catplot(x=col, y=df.index, data=df, order=df.sort_values(col).index)\n",
    "        plt.title(f\"Plato's {col.capitalize()} Scores\")\n",
    "    except ValueError:\n",
    "        pass\n",
    "    plt.tight_layout()\n",
    "    plt.savefig(f\"../reports/figures/comparison/compared_{col}_scores.png\")"
   ]
  },
  {
   "cell_type": "code",
   "execution_count": null,
   "metadata": {},
   "outputs": [],
   "source": [
    "for i, text in enumerate(df[\"text\"]):\n",
    "    cols = [\"anger\", \"fear\", \"happy\", \"sad\", \"surprise\"]\n",
    "    plt.figure(figsize=(10, 6))\n",
    "    sns.barplot(x=cols, y=df.iloc[i][cols])\n",
    "    plt.title(\n",
    "        f\"Plato's {df.index[i].capitalize().replace('_ii', ' II').replace('_i', ' I')} Emotion Scores\"\n",
    "    )\n",
    "    plt.tight_layout()\n",
    "    plt.savefig(f\"../reports/figures/emotions/{df.index[i]}_emotion_scores.png\")\n",
    "    plt.show()"
   ]
  },
  {
   "cell_type": "code",
   "execution_count": null,
   "metadata": {},
   "outputs": [],
   "source": [
    "df.head()"
   ]
  },
  {
   "cell_type": "code",
   "execution_count": 11,
   "metadata": {},
   "outputs": [],
   "source": [
    "df.to_csv(\"../data/processed/processed_plato_texts.csv\")"
   ]
  },
  {
   "cell_type": "markdown",
   "metadata": {},
   "source": [
    "### Additional data cleaning\n"
   ]
  },
  {
   "cell_type": "code",
   "execution_count": 4,
   "metadata": {},
   "outputs": [
    {
     "data": {
      "text/html": [
       "<div>\n",
       "<style scoped>\n",
       "    .dataframe tbody tr th:only-of-type {\n",
       "        vertical-align: middle;\n",
       "    }\n",
       "\n",
       "    .dataframe tbody tr th {\n",
       "        vertical-align: top;\n",
       "    }\n",
       "\n",
       "    .dataframe thead th {\n",
       "        text-align: right;\n",
       "    }\n",
       "</style>\n",
       "<table border=\"1\" class=\"dataframe\">\n",
       "  <thead>\n",
       "    <tr style=\"text-align: right;\">\n",
       "      <th></th>\n",
       "      <th>text</th>\n",
       "    </tr>\n",
       "  </thead>\n",
       "  <tbody>\n",
       "    <tr>\n",
       "      <th>alcibiades_i</th>\n",
       "      <td>socrates dare say may surprised find son clein...</td>\n",
       "    </tr>\n",
       "    <tr>\n",
       "      <th>alcibiades_ii</th>\n",
       "      <td>person dialogue socrates alcibiades socrates g...</td>\n",
       "    </tr>\n",
       "    <tr>\n",
       "      <th>apology</th>\n",
       "      <td>apology athenian affected accuser cannot tell ...</td>\n",
       "    </tr>\n",
       "    <tr>\n",
       "      <th>charmides</th>\n",
       "      <td>person dialogue socrates narrator charmides ch...</td>\n",
       "    </tr>\n",
       "    <tr>\n",
       "      <th>cratylus</th>\n",
       "      <td>person dialogue socrates hermogenes cratylus h...</td>\n",
       "    </tr>\n",
       "  </tbody>\n",
       "</table>\n",
       "</div>"
      ],
      "text/plain": [
       "                                                            text\n",
       "alcibiades_i   socrates dare say may surprised find son clein...\n",
       "alcibiades_ii  person dialogue socrates alcibiades socrates g...\n",
       "apology        apology athenian affected accuser cannot tell ...\n",
       "charmides      person dialogue socrates narrator charmides ch...\n",
       "cratylus       person dialogue socrates hermogenes cratylus h..."
      ]
     },
     "execution_count": 4,
     "metadata": {},
     "output_type": "execute_result"
    }
   ],
   "source": [
    "# remove punctuation\n",
    "df[\"text\"] = df[\"text\"].str.replace(\"[^\\w\\s]\", \"\")\n",
    "\n",
    "stop_words = set(stopwords.words(\"english\"))\n",
    "lemmatizer = WordNetLemmatizer()\n",
    "\n",
    "# remove stopwords from each text\n",
    "df[\"text\"] = df[\"text\"].apply(\n",
    "    lambda x: \" \".join([word for word in x.split() if word not in (stop_words)])\n",
    ")\n",
    "# lemmatize each text\n",
    "df[\"text\"] = df[\"text\"].apply(\n",
    "    lambda x: \" \".join([lemmatizer.lemmatize(word) for word in x.split()])\n",
    ")\n",
    "\n",
    "df.head()"
   ]
  },
  {
   "cell_type": "markdown",
   "metadata": {},
   "source": [
    "### Wordclouds\n"
   ]
  },
  {
   "cell_type": "code",
   "execution_count": null,
   "metadata": {},
   "outputs": [],
   "source": [
    "# create a wordcloud for each text in df\n",
    "\n",
    "for i in df.index:\n",
    "    title = i.capitalize().replace(\"_ii\", \" II\").replace(\"_i\", \" I\")\n",
    "    wordcloud(\n",
    "        df[\"text\"][i], title=title, save_path=f\"../reports/figures/{i}.png\", save=True\n",
    "    )"
   ]
  },
  {
   "cell_type": "markdown",
   "metadata": {},
   "source": [
    "### Topic Modeling\n"
   ]
  },
  {
   "cell_type": "code",
   "execution_count": 172,
   "metadata": {},
   "outputs": [],
   "source": [
    "def perform_lda(df, num_topics):\n",
    "    stop_words = set(stopwords.words(\"english\"))\n",
    "    stop_words.update([\"u\", \"one\"])\n",
    "\n",
    "    texts = [text.split() for text in df[\"text\"]]\n",
    "    texts = [[word for word in text if word not in stop_words] for text in texts]\n",
    "    texts = [[lemmatizer.lemmatize(word) for word in text] for text in texts]\n",
    "    dictionary = corpora.Dictionary(texts)\n",
    "    corpus = [dictionary.doc2bow(text) for text in texts]\n",
    "    lda_model = LdaModel(corpus=corpus, id2word=dictionary, num_topics=10)\n",
    "    lda_display = gensimvis.prepare(\n",
    "        lda_model,\n",
    "        corpus,\n",
    "        dictionary,\n",
    "    )\n",
    "    return lda_display"
   ]
  },
  {
   "cell_type": "code",
   "execution_count": 173,
   "metadata": {},
   "outputs": [],
   "source": [
    "# perform LDA on all texts combined\n",
    "lda_display = perform_lda(df, num_topics=10)\n",
    "pyLDAvis.save_html(lda_display, f\"../reports/files/lda/all_texts_combined.html\")"
   ]
  },
  {
   "cell_type": "code",
   "execution_count": 167,
   "metadata": {},
   "outputs": [],
   "source": [
    "# perform lda on each text separately\n",
    "for i, text in enumerate(df[\"text\"]):\n",
    "    lda_display = perform_lda(df.iloc[i : i + 1], num_topics=5)\n",
    "    pyLDAvis.save_html(lda_display, f\"../reports/files/lda/{df.index[i]}.html\")"
   ]
  },
  {
   "cell_type": "code",
   "execution_count": null,
   "metadata": {},
   "outputs": [],
   "source": [
    "# create a chart that represents the top bigrams for each text in df\n",
    "\n",
    "# adding a few stopwords to the default list\n",
    "ignore = [\n",
    "    \"socrates\",\n",
    "    \"alcibiades\",\n",
    "    # 'critias',\n",
    "    # 'hermogenes',\n",
    "    # 'callicles',\n",
    "    # 'dynodorus',\n",
    "    # 'protarchus',\n",
    "    \"phaedrus\",\n",
    "    \"thaetetus\",\n",
    "    # 'eriximachus',\n",
    "    # 'menexenus',\n",
    "    # 'cleinias'\n",
    "    \"u\",\n",
    "    \"one\",\n",
    "]\n",
    "\n",
    "stop_words = set(stopwords.words(\"english\"))\n",
    "stop_words.update(ignore)\n",
    "\n",
    "for i, text in enumerate(df[\"text\"]):\n",
    "    get_top_bigrams(\n",
    "        text,\n",
    "        title=(\n",
    "            f\"Top {10} Bigrams in Plato's {df.index[i].capitalize().replace('_ii', ' II').replace('_i', ' I')}\"\n",
    "        ),\n",
    "        n=10,\n",
    "        stop_words=stop_words,\n",
    "        save_path=f\"../reports/figures/top_bigrams/{df.index[i]}_bigrams.png\",\n",
    "    )"
   ]
  },
  {
   "cell_type": "markdown",
   "metadata": {},
   "source": [
    "### Word Embeddings Analysis\n"
   ]
  },
  {
   "cell_type": "code",
   "execution_count": null,
   "metadata": {},
   "outputs": [],
   "source": [
    "%load_ext tensorboard\n",
    "\n",
    "for i, text in enumerate(df['text'][:1]):\n",
    "    stop_words = set(stopwords.words('english'))\n",
    "    stop_words.update(['u'])\n",
    "    text = [word for word in text.split() if word not in (stop_words)]\n",
    "    texts = [text.split() for text in df['text']]\n",
    "    # create a word2vec model\n",
    "    model = Word2Vec(texts, vector_size=100, window=5, min_count=1, workers=4)\n",
    "    # create a list of words\n",
    "    words = list(model.wv.index_to_key)\n",
    "    # create a list of vectors\n",
    "    vectors = [model.wv[word] for word in words]\n",
    "    tsne = TSNE(n_components=2)\n",
    "    vectors_2d = tsne.fit_transform(vectors)\n",
    "    # create a dataframe of words and 2d vectors make sure that the exact word is a label for each vector\n",
    "    df_2d = pd.DataFrame(vectors_2d, index=words, columns=['y', 'x'])\n",
    "\n",
    "    # create a tensorboard writer\n",
    "    writer = tf.summary.create_file_writer(f'../reports/files/tensorboard_embeddings/{df.index[i]}')\n",
    "    # Set up a logs directory, so Tensorboard knows where to look for files.\n",
    "    try: \n",
    "        os.makedirs(f'../reports/files/tensorboard_embeddings/{df.index[i]}')\n",
    "    except FileExistsError:\n",
    "        pass\n",
    "    \n",
    "    log_dir = f'../reports/files/tensorboard_embeddings/{df.index[i]}'\n",
    "    with open(os.path.join(log_dir, 'metadata.tsv'), 'w') as f:\n",
    "        for word in words:\n",
    "            f.write(f'{word}\\n')\n",
    "    \n",
    "    weights = tf.Variable(vectors_2d)\n",
    "    checkpoint = tf.train.Checkpoint(embedding=weights)\n",
    "    checkpoint.save(os.path.join(log_dir, \"embedding.ckpt\"))\n",
    "\n",
    "    config = projector.ProjectorConfig()\n",
    "    embedding = config.embeddings.add()\n",
    "    embedding.tensor_name = \"embedding/.ATTRIBUTES/VARIABLE_VALUE\"\n",
    "    embedding.metadata_path = 'metadata.tsv'\n",
    "\n",
    "    # save a config file that Tensorboard will read during startup.\n",
    "    projector.visualize_embeddings(log_dir, config)\n",
    "\n",
    "\n",
    "%tensorboard --logdir ../reports/files/tensorboard_embeddings"
   ]
  },
  {
   "cell_type": "code",
   "execution_count": null,
   "metadata": {},
   "outputs": [],
   "source": []
  }
 ],
 "metadata": {
  "kernelspec": {
   "display_name": "Python 3.8.13 ('base')",
   "language": "python",
   "name": "python3"
  },
  "language_info": {
   "codemirror_mode": {
    "name": "ipython",
    "version": 3
   },
   "file_extension": ".py",
   "mimetype": "text/x-python",
   "name": "python",
   "nbconvert_exporter": "python",
   "pygments_lexer": "ipython3",
   "version": "3.8.13"
  },
  "orig_nbformat": 4,
  "vscode": {
   "interpreter": {
    "hash": "0c7684f310667454ebd28a2f654983ed0ffa2b3ebb67f58c9c1e05e208a13d70"
   }
  }
 },
 "nbformat": 4,
 "nbformat_minor": 2
}
